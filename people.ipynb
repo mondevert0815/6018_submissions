{
 "cells": [
  {
   "cell_type": "markdown",
   "metadata": {
    "deletable": false,
    "editable": false,
    "nbgrader": {
     "checksum": "9acf605d4835a4d68615c8476acd83ee",
     "grade": false,
     "grade_id": "cell-b361279a9de44e2f",
     "locked": true,
     "schema_version": 1,
     "solution": false
    }
   },
   "source": [
    "# Person Simulations\n",
    "\n",
    "In this notebook you will work with Pandas to simulate people based on the `Person` class defined in `person.py`."
   ]
  },
  {
   "cell_type": "code",
   "execution_count": 1,
   "metadata": {
    "deletable": false,
    "editable": false,
    "nbgrader": {
     "checksum": "94c56a63854a0adedd22387f054d0f58",
     "grade": false,
     "grade_id": "cell-fdc5d117adaa5ae4",
     "locked": true,
     "schema_version": 1,
     "solution": false
    }
   },
   "outputs": [],
   "source": [
    "from nose.tools import assert_equal, assert_true, assert_raises, assert_almost_equal"
   ]
  },
  {
   "cell_type": "code",
   "execution_count": 2,
   "metadata": {
    "deletable": false,
    "editable": false,
    "nbgrader": {
     "checksum": "aa14074a18b03790bbba29edd6b0a86f",
     "grade": false,
     "grade_id": "cell-7bba0a459ea346d2",
     "locked": true,
     "schema_version": 1,
     "solution": false
    }
   },
   "outputs": [],
   "source": [
    "import pandas as pd\n",
    "import dateutil\n",
    "import datetime\n",
    "import time\n",
    "from dateutil.relativedelta import *\n",
    "import numpy.random as ra\n",
    "import math\n",
    "import random\n",
    "import seaborn as sns\n",
    "import numpy as np\n",
    "import numbers"
   ]
  },
  {
   "cell_type": "markdown",
   "metadata": {
    "deletable": false,
    "editable": false,
    "nbgrader": {
     "checksum": "c0a2a053ee521fda56a398a2c3f3a7d3",
     "grade": false,
     "grade_id": "cell-1170d85112137c1c",
     "locked": true,
     "schema_version": 1,
     "solution": false
    }
   },
   "source": [
    "#### Import our Person class"
   ]
  },
  {
   "cell_type": "code",
   "execution_count": 3,
   "metadata": {
    "deletable": false,
    "editable": false,
    "nbgrader": {
     "checksum": "e0329cffecbb2e6dca90adfb2aa9bb73",
     "grade": false,
     "grade_id": "cell-17b5eff363193e0d",
     "locked": true,
     "schema_version": 1,
     "solution": false
    }
   },
   "outputs": [],
   "source": [
    "from person import Person"
   ]
  },
  {
   "cell_type": "markdown",
   "metadata": {
    "deletable": false,
    "editable": false,
    "nbgrader": {
     "checksum": "f48a19f893b5cd27693a735d6165877d",
     "grade": false,
     "grade_id": "cell-a93c2f6dbb610b20",
     "locked": true,
     "schema_version": 1,
     "solution": false
    }
   },
   "source": [
    "## Get Name Data\n",
    "\n",
    "Here we read in two files containing name data. \n",
    "\n",
    "### `first_names`\n",
    "\n",
    "\n",
    "The Social Security Administration provides the [names of babies](https://www.ssa.gov/oact/babynames/limits.html) born in the United States between 1880 and 2016. For privacy purposes names occurring fewer than 5 times per year are excluded. A dictionary containing these name, along with their probabilities and cumulative probabilities is stored in a compressed pickle file `first_names.pickle.gz`. Use Python to read the dictionary into this notebook.\n",
    "\n",
    "`first_names` is a dictionary with years as keys and values dictionaries keyed on sex `('M','F')`  with values Pandas DataFrames with name data.\n",
    "\n",
    "For example:\n",
    "```Python\n",
    "first_names[1937]['F'].tail()\n",
    "```\n",
    "<table border=\"1\" class=\"dataframe\">\n",
    "  <thead>\n",
    "    <tr style=\"text-align: right;\">\n",
    "      <th></th>\n",
    "      <th>name</th>\n",
    "      <th>sex</th>\n",
    "      <th>count</th>\n",
    "      <th>probability</th>\n",
    "      <th>cumulative_probability</th>\n",
    "    </tr>\n",
    "  </thead>\n",
    "  <tbody>\n",
    "    <tr>\n",
    "      <th>4</th>\n",
    "      <td>Betty</td>\n",
    "      <td>F</td>\n",
    "      <td>25330</td>\n",
    "      <td>0.028153</td>\n",
    "      <td>0.839723</td>\n",
    "    </tr>\n",
    "    <tr>\n",
    "      <th>3</th>\n",
    "      <td>Shirley</td>\n",
    "      <td>F</td>\n",
    "      <td>26816</td>\n",
    "      <td>0.029804</td>\n",
    "      <td>0.869528</td>\n",
    "    </tr>\n",
    "    <tr>\n",
    "      <th>2</th>\n",
    "      <td>Patricia</td>\n",
    "      <td>F</td>\n",
    "      <td>26839</td>\n",
    "      <td>0.029830</td>\n",
    "      <td>0.899358</td>\n",
    "    </tr>\n",
    "    <tr>\n",
    "      <th>1</th>\n",
    "      <td>Barbara</td>\n",
    "      <td>F</td>\n",
    "      <td>34908</td>\n",
    "      <td>0.038798</td>\n",
    "      <td>0.938156</td>\n",
    "    </tr>\n",
    "    <tr>\n",
    "      <th>0</th>\n",
    "      <td>Mary</td>\n",
    "      <td>F</td>\n",
    "      <td>55643</td>\n",
    "      <td>0.061844</td>\n",
    "      <td>1.000000</td>\n",
    "    </tr>\n",
    "  </tbody>\n",
    "</table>\n",
    "\n",
    "```Python\n",
    "print(first_names[1963]['M'].tail().to_html())\n",
    "```\n",
    "\n",
    "<table border=\"1\" class=\"dataframe\">\n",
    "  <thead>\n",
    "    <tr style=\"text-align: right;\">\n",
    "      <th></th>\n",
    "      <th>name</th>\n",
    "      <th>sex</th>\n",
    "      <th>count</th>\n",
    "      <th>probability</th>\n",
    "      <th>cumulative_probability</th>\n",
    "    </tr>\n",
    "  </thead>\n",
    "  <tbody>\n",
    "    <tr>\n",
    "      <th>7666</th>\n",
    "      <td>Robert</td>\n",
    "      <td>M</td>\n",
    "      <td>70018</td>\n",
    "      <td>0.037584</td>\n",
    "      <td>0.832395</td>\n",
    "    </tr>\n",
    "    <tr>\n",
    "      <th>7665</th>\n",
    "      <td>James</td>\n",
    "      <td>M</td>\n",
    "      <td>71334</td>\n",
    "      <td>0.038291</td>\n",
    "      <td>0.870686</td>\n",
    "    </tr>\n",
    "    <tr>\n",
    "      <th>7664</th>\n",
    "      <td>David</td>\n",
    "      <td>M</td>\n",
    "      <td>78476</td>\n",
    "      <td>0.042125</td>\n",
    "      <td>0.912810</td>\n",
    "    </tr>\n",
    "    <tr>\n",
    "      <th>7663</th>\n",
    "      <td>John</td>\n",
    "      <td>M</td>\n",
    "      <td>78642</td>\n",
    "      <td>0.042214</td>\n",
    "      <td>0.955024</td>\n",
    "    </tr>\n",
    "    <tr>\n",
    "      <th>7662</th>\n",
    "      <td>Michael</td>\n",
    "      <td>M</td>\n",
    "      <td>83788</td>\n",
    "      <td>0.044976</td>\n",
    "      <td>1.000000</td>\n",
    "    </tr>\n",
    "  </tbody>\n",
    "</table>\n",
    "\n",
    "### `surnames`\n",
    "\n",
    "Is a Pandas DataFrame with `surname` information`:\n",
    "\n",
    "<table border=\"1\" class=\"dataframe\">\n",
    "  <thead>\n",
    "    <tr style=\"text-align: right;\">\n",
    "      <th></th>\n",
    "      <th>Surname</th>\n",
    "      <th>Cumprob</th>\n",
    "    </tr>\n",
    "  </thead>\n",
    "  <tbody>\n",
    "    <tr>\n",
    "      <th>4</th>\n",
    "      <td>JONES</td>\n",
    "      <td>0.951855</td>\n",
    "    </tr>\n",
    "    <tr>\n",
    "      <th>3</th>\n",
    "      <td>BROWN</td>\n",
    "      <td>0.961152</td>\n",
    "    </tr>\n",
    "    <tr>\n",
    "      <th>2</th>\n",
    "      <td>WILLIAMS</td>\n",
    "      <td>0.971485</td>\n",
    "    </tr>\n",
    "    <tr>\n",
    "      <th>1</th>\n",
    "      <td>JOHNSON</td>\n",
    "      <td>0.983994</td>\n",
    "    </tr>\n",
    "    <tr>\n",
    "      <th>0</th>\n",
    "      <td>SMITH</td>\n",
    "      <td>1.000000</td>\n",
    "    </tr>\n",
    "  </tbody>\n",
    "</table>"
   ]
  },
  {
   "cell_type": "markdown",
   "metadata": {
    "deletable": false,
    "editable": false,
    "nbgrader": {
     "checksum": "814c4d1cc772a83c06b4e0c07281d3e8",
     "grade": false,
     "grade_id": "cell-f46f6265c683ccfe",
     "locked": true,
     "schema_version": 1,
     "solution": false
    }
   },
   "source": [
    "#### Read in our name data."
   ]
  },
  {
   "cell_type": "code",
   "execution_count": 4,
   "metadata": {
    "deletable": false,
    "editable": false,
    "nbgrader": {
     "checksum": "a63a8cb15a1a3078b986f53576b738f3",
     "grade": false,
     "grade_id": "cell-f7e42884aec072fb",
     "locked": true,
     "schema_version": 1,
     "solution": false
    }
   },
   "outputs": [],
   "source": [
    "first_names = pd.read_pickle(\"first_names.pickle.gz\")\n",
    "surnames = pd.read_hdf(\"surnames.hdf\")\n"
   ]
  },
  {
   "cell_type": "markdown",
   "metadata": {
    "deletable": false,
    "editable": false,
    "nbgrader": {
     "checksum": "5ae1a36cf8ffb99f6485a382be1ce355",
     "grade": false,
     "grade_id": "cell-6312d1e07545b48c",
     "locked": true,
     "schema_version": 1,
     "solution": false
    }
   },
   "source": [
    "**Problem 1 (5 points):**\n",
    "\n",
    "A common task with Pandas DataFrames or series is filtering the data to only keep rows that satisfy some criteria. For example, if I wanted to only keep names with an `\"H\"` in it, i could write a function\n",
    "\n",
    "```Python\n",
    "def filter1(v1, v2):\n",
    "         return v1.apply(lambda x: v2 in x)\n",
    "filter1(surnames['Surname'], 'H').tail()\n",
    "```\n",
    "\n",
    "```\n",
    "4    False\n",
    "3    False\n",
    "2    False\n",
    "1     True\n",
    "0     True\n",
    "Name: Surname, dtype: bool\n",
    "```\n",
    "\n",
    "Which could then be used to filter the DataFrame\n",
    "\n",
    "\n",
    "```Python\n",
    "surnames[filter1(surnames['Surname'], 'H')].tail()\n",
    "```\n",
    "\n",
    "<table border=\"1\" class=\"dataframe\">\n",
    "  <thead>\n",
    "    <tr style=\"text-align: right;\">\n",
    "      <th></th>\n",
    "      <th>Surname</th>\n",
    "      <th>Cumprob</th>\n",
    "    </tr>\n",
    "  </thead>\n",
    "  <tbody>\n",
    "    <tr>\n",
    "      <th>18</th>\n",
    "      <td>THOMPSON</td>\n",
    "      <td>0.872905</td>\n",
    "    </tr>\n",
    "    <tr>\n",
    "      <th>14</th>\n",
    "      <td>HERNANDEZ</td>\n",
    "      <td>0.891387</td>\n",
    "    </tr>\n",
    "    <tr>\n",
    "      <th>13</th>\n",
    "      <td>THOMAS</td>\n",
    "      <td>0.896175</td>\n",
    "    </tr>\n",
    "    <tr>\n",
    "      <th>1</th>\n",
    "      <td>JOHNSON</td>\n",
    "      <td>0.983994</td>\n",
    "    </tr>\n",
    "    <tr>\n",
    "      <th>0</th>\n",
    "      <td>SMITH</td>\n",
    "      <td>1.000000</td>\n",
    "    </tr>\n",
    "  </tbody>\n",
    "</table>"
   ]
  },
  {
   "cell_type": "code",
   "execution_count": 5,
   "metadata": {
    "deletable": false,
    "editable": false,
    "nbgrader": {
     "checksum": "c50b5ed90e5a15d94643292d3adfb2f4",
     "grade": false,
     "grade_id": "cell-97fc24676161bf6e",
     "locked": true,
     "schema_version": 1,
     "solution": false
    }
   },
   "outputs": [],
   "source": [
    "def filter1(v1, v2):\n",
    "    return v1.apply(lambda x: v2 in x)"
   ]
  },
  {
   "cell_type": "markdown",
   "metadata": {
    "deletable": false,
    "editable": false,
    "nbgrader": {
     "checksum": "6f7e327dfc797f0db174caffdfa9f6f3",
     "grade": false,
     "grade_id": "cell-3a2ee1a420b265cb",
     "locked": true,
     "schema_version": 1,
     "solution": false
    }
   },
   "source": [
    "Write a function `filter1g` that generalizes `filter1` to test whether an aribtrary collection characters is in a value. For example, the following statement produces this output:\n",
    "\n",
    "```Python\n",
    "surnames[filter1g(surnames['Surname'], ('Q','E', 'I'))]\n",
    "```\n",
    "\n",
    "<table border=\"1\" class=\"dataframe\">\n",
    "  <thead>\n",
    "    <tr style=\"text-align: right;\">\n",
    "      <th></th>\n",
    "      <th>Surname</th>\n",
    "      <th>Cumprob</th>\n",
    "    </tr>\n",
    "  </thead>\n",
    "  <tbody>\n",
    "    <tr>\n",
    "      <th>2379</th>\n",
    "      <td>SQUIRES</td>\n",
    "      <td>0.072054</td>\n",
    "    </tr>\n",
    "    <tr>\n",
    "      <th>1972</th>\n",
    "      <td>QUIGLEY</td>\n",
    "      <td>0.114091</td>\n",
    "    </tr>\n",
    "    <tr>\n",
    "      <th>1219</th>\n",
    "      <td>ESQUIVEL</td>\n",
    "      <td>0.220093</td>\n",
    "    </tr>\n",
    "    <tr>\n",
    "      <th>1216</th>\n",
    "      <td>RODRIQUEZ</td>\n",
    "      <td>0.220625</td>\n",
    "    </tr>\n",
    "    <tr>\n",
    "      <th>1176</th>\n",
    "      <td>QUINONES</td>\n",
    "      <td>0.227856</td>\n",
    "    </tr>\n",
    "    <tr>\n",
    "      <th>1071</th>\n",
    "      <td>ENRIQUEZ</td>\n",
    "      <td>0.248045</td>\n",
    "    </tr>\n",
    "    <tr>\n",
    "      <th>1069</th>\n",
    "      <td>QUINTERO</td>\n",
    "      <td>0.248448</td>\n",
    "    </tr>\n",
    "  </tbody>\n",
    "</table>\n"
   ]
  },
  {
   "cell_type": "code",
   "execution_count": 7,
   "metadata": {
    "deletable": false,
    "nbgrader": {
     "checksum": "2958cc4316bb27d150af9d7a66651737",
     "grade": false,
     "grade_id": "cell-6553da4bf079bfbb",
     "locked": false,
     "schema_version": 1,
     "solution": true
    }
   },
   "outputs": [],
   "source": [
    "def filter1g(v1, v2):\n",
    "    return v1.apply(lambda x: all([v in x for v in v2]))\n",
    "\n",
    "    #raise NotImplementedError()"
   ]
  },
  {
   "cell_type": "code",
   "execution_count": 8,
   "metadata": {
    "deletable": false,
    "editable": false,
    "nbgrader": {
     "checksum": "a25f268a378b882839e2752e5c9e32ef",
     "grade": true,
     "grade_id": "cell-db34c4e50ea780dd",
     "locked": true,
     "points": 3,
     "schema_version": 1,
     "solution": false
    }
   },
   "outputs": [],
   "source": [
    "assert_equal(surnames[filter1g(surnames['Surname'], \n",
    "                               ('Q','E', 'I'))].shape, (7,2))"
   ]
  },
  {
   "cell_type": "code",
   "execution_count": 9,
   "metadata": {
    "deletable": false,
    "editable": false,
    "nbgrader": {
     "checksum": "f0aee78dc5313f5652b4c4d08a75dcf7",
     "grade": true,
     "grade_id": "cell-ad344cf4081de4fe",
     "locked": true,
     "points": 2,
     "schema_version": 1,
     "solution": false
    }
   },
   "outputs": [],
   "source": [
    "assert_true(\"MCCORMICK\" in list(surnames[filter1g(surnames['Surname'], \n",
    "                               ('MC','O', 'I'))]['Surname']))"
   ]
  },
  {
   "cell_type": "markdown",
   "metadata": {
    "deletable": false,
    "editable": false,
    "nbgrader": {
     "checksum": "2649a68eed3f535f14efd1ed0468300b",
     "grade": false,
     "grade_id": "cell-7fcd7cda35aef020",
     "locked": true,
     "schema_version": 1,
     "solution": false
    }
   },
   "source": [
    "**Problem 2 (5 points):**\n",
    "    \n",
    "Write a function `filter2` similar to `filter1` and `filter1g` but which tests whether the values in `v1` and greater than or equal to the value `v2`."
   ]
  },
  {
   "cell_type": "code",
   "execution_count": 10,
   "metadata": {
    "deletable": false,
    "nbgrader": {
     "checksum": "58c0a31cb49058f739f16c94a7a9dce7",
     "grade": false,
     "grade_id": "cell-5f52c862ee6bd24a",
     "locked": false,
     "schema_version": 1,
     "solution": true
    }
   },
   "outputs": [],
   "source": [
    "def filter2(v1, v2):\n",
    "    return v1.apply(lambda x: x >= v2)\n",
    "    #raise NotImplementedError()"
   ]
  },
  {
   "cell_type": "code",
   "execution_count": 11,
   "metadata": {
    "deletable": false,
    "editable": false,
    "nbgrader": {
     "checksum": "a44dba13afa7a0071516f0ea34770a55",
     "grade": true,
     "grade_id": "cell-a8234060f16c741a",
     "locked": true,
     "points": 2,
     "schema_version": 1,
     "solution": false
    }
   },
   "outputs": [],
   "source": [
    "assert_equal(surnames[filter2(surnames[\"Cumprob\"], 0.9353)].shape, (6,2))"
   ]
  },
  {
   "cell_type": "code",
   "execution_count": 12,
   "metadata": {
    "deletable": false,
    "editable": false,
    "nbgrader": {
     "checksum": "35a1f1c0d9ad9f522f4d62b2e1cebf87",
     "grade": true,
     "grade_id": "cell-b3b520436b657bc6",
     "locked": true,
     "points": 3,
     "schema_version": 1,
     "solution": false
    }
   },
   "outputs": [],
   "source": [
    "assert_true(\"LIU\" in tuple(surnames[filter2(surnames[\"Cumprob\"], 0.353)][\"Surname\"]))"
   ]
  },
  {
   "cell_type": "markdown",
   "metadata": {
    "deletable": false,
    "editable": false,
    "nbgrader": {
     "checksum": "9711aab979cbc8b90fdbcfdab641d15c",
     "grade": false,
     "grade_id": "cell-87fed337f81d09ee",
     "locked": true,
     "schema_version": 1,
     "solution": false
    }
   },
   "source": [
    "**Problem 3 (10 points)**:\n",
    "\n",
    "Write a function `select_attribute` that takes as positional arguments \n",
    "\n",
    "* `df`: A Pandas DataFrame\n",
    "* `value_column`: The name of a column to return values from (e.g. `name`)\n",
    "* `select_column`: The name of a column to base the section on (e.g. `Cumprob`\n",
    "* `filter_function`: A function (like `filter1g` or `filter2`) that is applied to `df`'s `select_column`.\n",
    "* `filter_value`: The second argument to the `filter_function`.\n",
    "\n",
    "`select_attribute` should return `value_column` in the first row of the filtered  DataFrame.\n"
   ]
  },
  {
   "cell_type": "code",
   "execution_count": 13,
   "metadata": {
    "deletable": false,
    "nbgrader": {
     "checksum": "e5d533bd76b235eaf60cae2ce1888e2b",
     "grade": false,
     "grade_id": "cell-2ee225f094b2d485",
     "locked": false,
     "schema_version": 1,
     "solution": true
    }
   },
   "outputs": [],
   "source": [
    "def select_attribute(df, \n",
    "                         value_column, \n",
    "                         select_column,\n",
    "                         filter_function,\n",
    "                         filter_value):\n",
    "    return df[filter_function(df[select_column],filter_value)].iloc[0][value_column]\n",
    "    #raise NotImplementedError()"
   ]
  },
  {
   "cell_type": "code",
   "execution_count": 14,
   "metadata": {
    "deletable": false,
    "editable": false,
    "nbgrader": {
     "checksum": "96ca8618eab72d532ded75d89abf7100",
     "grade": true,
     "grade_id": "cell-f3490920a0903dee",
     "locked": true,
     "points": 5,
     "schema_version": 1,
     "solution": false
    }
   },
   "outputs": [],
   "source": [
    "assert_equal(select_attribute(surnames, \"Surname\", \"Surname\", \n",
    "                     filter1g, (\"CH\", \"P\")), 'CHAPIN')"
   ]
  },
  {
   "cell_type": "code",
   "execution_count": 15,
   "metadata": {
    "deletable": false,
    "editable": false,
    "nbgrader": {
     "checksum": "98f03d7f79b9756de31b7b22c8f3691e",
     "grade": true,
     "grade_id": "cell-983fadedd1c647ec",
     "locked": true,
     "points": 5,
     "schema_version": 1,
     "solution": false
    }
   },
   "outputs": [],
   "source": [
    "assert_equal(select_attribute(surnames, \"Surname\", \n",
    "                                  \"Cumprob\", \n",
    "                                  filter2,\n",
    "                                  0.355),\"GOLDEN\")"
   ]
  },
  {
   "cell_type": "markdown",
   "metadata": {
    "deletable": false,
    "editable": false,
    "nbgrader": {
     "checksum": "a7115d44a74221814c9b7ad0397de49f",
     "grade": false,
     "grade_id": "cell-321a1d37bb0fe8dd",
     "locked": true,
     "schema_version": 1,
     "solution": false
    }
   },
   "source": [
    "**Problem 4 (10 points):**\n",
    "\n",
    "Write a function `get_sex` that takes a positional argument the proportion of the population that is female and returns `\"F\"` or `\"M\"` based on that proportion. The keyword argument `seed=None` is needed for testing.\n"
   ]
  },
  {
   "cell_type": "code",
   "execution_count": 16,
   "metadata": {
    "deletable": false,
    "nbgrader": {
     "checksum": "85fb3c600c43470750f1140dc5537aee",
     "grade": false,
     "grade_id": "cell-4c27aae41d95d993",
     "locked": false,
     "schema_version": 1,
     "solution": true
    }
   },
   "outputs": [],
   "source": [
    "def get_sex(female_proportion, seed=None):\n",
    "    random.seed(seed)\n",
    "    if female_proportion > 0.5:\n",
    "        return 'F'\n",
    "    else:\n",
    "        return 'M'\n",
    "\n",
    "#raise NotImplementedError()"
   ]
  },
  {
   "cell_type": "code",
   "execution_count": 17,
   "metadata": {
    "deletable": false,
    "editable": false,
    "nbgrader": {
     "checksum": "63ccfeafa7f0f5afcd92d7140f251523",
     "grade": true,
     "grade_id": "cell-4e80d1937bba2c7e",
     "locked": true,
     "points": 3,
     "schema_version": 1,
     "solution": false
    }
   },
   "outputs": [],
   "source": [
    "assert_equal(get_sex(0.52, seed=1), \"F\")"
   ]
  },
  {
   "cell_type": "code",
   "execution_count": 18,
   "metadata": {
    "deletable": false,
    "editable": false,
    "nbgrader": {
     "checksum": "0a6f9b6c98966ac5d2b0f0770b39833c",
     "grade": true,
     "grade_id": "cell-42a9477345a8cc91",
     "locked": true,
     "points": 2,
     "schema_version": 1,
     "solution": false
    }
   },
   "outputs": [],
   "source": [
    "assert_equal(get_sex(0.1, seed=1), \"M\")"
   ]
  },
  {
   "cell_type": "markdown",
   "metadata": {
    "deletable": false,
    "editable": false,
    "nbgrader": {
     "checksum": "ff4d35a1f798a7ca0c057e6a5f1ac99d",
     "grade": false,
     "grade_id": "cell-cd2d1b72639a95c9",
     "locked": true,
     "schema_version": 1,
     "solution": false
    }
   },
   "source": [
    "**Problem 5 (10 points):**\n",
    "\n",
    "Complete and correct `get_dob` so that it returns a `datetime.date`\n",
    "uniformly distributed between last_year and first_year (January 1 of first_year).\n",
    "\n",
    "```Python\n",
    "def get_dob(last_year=None, first_year= 1918):\n",
    "    \"\"\"\n",
    "    returns a datetime.date object uniformly distributed between\n",
    "           January 1, first_year and last_year\n",
    "    \n",
    "    Arguments:\n",
    "        last_year: If None, use current date\n",
    "                   If an int, use the date of January 1, last_year \n",
    "        first_year: An integer representing first year from which to\n",
    "                    potentially select a date of birth\n",
    "    \"\"\"\n",
    "    fd = datetime.datetime(year=first_year, month=1, day=1).date\n",
    "    if last_year:\n",
    "        ld = datetime.datetime.fromtimestamp(time.time()).date\n",
    "    else:\n",
    "        ld = datetime.datetime(year=last_year, month=1, day=1).date\n",
    "    end_range = time.mktime(ld.timetuple())\n",
    "    \n",
    "    start_range = time.mktime(fd.timetuple())\n",
    "\n",
    "    \n",
    "    datetime.datetime.fromtimestamp(\n",
    "        random.randint(start_range, \n",
    "                       end_range)).date\n",
    "```"
   ]
  },
  {
   "cell_type": "code",
   "execution_count": 19,
   "metadata": {
    "deletable": false,
    "nbgrader": {
     "checksum": "b8eda8c5540950959c1246d6bac82bcd",
     "grade": false,
     "grade_id": "cell-590f762226f0fa9f",
     "locked": false,
     "schema_version": 1,
     "solution": true
    }
   },
   "outputs": [],
   "source": [
    "def get_dob(last_year=None, first_year= 1918):\n",
    "    \"\"\"\n",
    "    returns a datetime.date object uniformly distributed between\n",
    "           January 1, first_year and last_year\n",
    "    \n",
    "    Arguments:\n",
    "        last_year: If None, use current date\n",
    "                   If an int, use the date of January 1, last_year \n",
    "        first_year: An integer representing first year from which to\n",
    "                    potentially select a date of birth\n",
    "    \"\"\"\n",
    "    fd = datetime.datetime(year=first_year, month=1, day=1).date()\n",
    "    if last_year == None:\n",
    "        ld = datetime.datetime.fromtimestamp(time.time()).date()\n",
    "    else:\n",
    "        ld = datetime.datetime(year=last_year, month=1, day=1).date()\n",
    "    end_range = time.mktime(ld.timetuple())\n",
    " \n",
    "    start_range = time.mktime(fd.timetuple())\n",
    " \n",
    " \n",
    "    return datetime.datetime.fromtimestamp(\n",
    "        random.randint(start_range, \n",
    "                       end_range)).date()\n",
    "\n",
    "    #raise NotImplementedError()"
   ]
  },
  {
   "cell_type": "markdown",
   "metadata": {
    "deletable": false,
    "editable": false,
    "nbgrader": {
     "checksum": "6056a2ac08dcfbe47fb102712a758803",
     "grade": false,
     "grade_id": "cell-a3f84b45648a8f66",
     "locked": true,
     "schema_version": 1,
     "solution": false
    }
   },
   "source": [
    "#### Generated first year must be greater than or equal to `first_year`"
   ]
  },
  {
   "cell_type": "markdown",
   "metadata": {
    "deletable": false,
    "editable": false,
    "nbgrader": {
     "checksum": "dbf54fdf7218726eb22974b64112187a",
     "grade": false,
     "grade_id": "cell-8dddf744041fbf36",
     "locked": true,
     "schema_version": 1,
     "solution": false
    }
   },
   "source": [
    "#### We have to generate a lot of values to get our statistical estimates."
   ]
  },
  {
   "cell_type": "code",
   "execution_count": 20,
   "metadata": {
    "deletable": false,
    "editable": false,
    "nbgrader": {
     "checksum": "3939a55c3603cdb18bbc0b16562c56f2",
     "grade": true,
     "grade_id": "cell-056502fcd08ad99b",
     "locked": true,
     "points": 5,
     "schema_version": 1,
     "solution": false
    }
   },
   "outputs": [],
   "source": [
    "n1 = 50\n",
    "rslt = [get_dob(first_year=1945) for i in range(n1)]\n",
    "assert_true(min([r.year for r in rslt]) >= 1945)"
   ]
  },
  {
   "cell_type": "markdown",
   "metadata": {
    "deletable": false,
    "editable": false,
    "nbgrader": {
     "checksum": "36fd914d63e3a6ea6760d5f10f71b82e",
     "grade": false,
     "grade_id": "cell-f82b47464edc12b9",
     "locked": true,
     "schema_version": 1,
     "solution": false
    }
   },
   "source": [
    "#### Generated last year must be less than or equal to `last_year`"
   ]
  },
  {
   "cell_type": "code",
   "execution_count": 21,
   "metadata": {
    "deletable": false,
    "editable": false,
    "nbgrader": {
     "checksum": "0912afbe58f165ce7b8f20df80d618b1",
     "grade": true,
     "grade_id": "cell-e41cc5001937f784",
     "locked": true,
     "points": 2,
     "schema_version": 1,
     "solution": false
    }
   },
   "outputs": [],
   "source": [
    "assert_true(max([r.year for r in rslt]) <= 2018)"
   ]
  },
  {
   "cell_type": "code",
   "execution_count": 22,
   "metadata": {
    "deletable": false,
    "editable": false,
    "nbgrader": {
     "checksum": "97f5cdf0233e5158f172c4f086971ee0",
     "grade": true,
     "grade_id": "cell-fa065e5f31551ebe",
     "locked": true,
     "points": 3,
     "schema_version": 1,
     "solution": false
    }
   },
   "outputs": [],
   "source": [
    "n2 = 500\n",
    "rslt = [get_dob(first_year=1945, last_year=1955) for i in range(n1)]\n",
    "assert_true(max([r.year for r in rslt]) <= 1955)"
   ]
  },
  {
   "cell_type": "code",
   "execution_count": 23,
   "metadata": {
    "deletable": false,
    "editable": false,
    "nbgrader": {
     "checksum": "fe6f0a10cfbce8ec90e3f653c2c2b708",
     "grade": false,
     "grade_id": "cell-85b54a93bb919047",
     "locked": true,
     "schema_version": 1,
     "solution": false
    }
   },
   "outputs": [
    {
     "name": "stderr",
     "output_type": "stream",
     "text": [
      "/opt/conda/lib/python3.6/site-packages/scipy/stats/stats.py:1713: FutureWarning: Using a non-tuple sequence for multidimensional indexing is deprecated; use `arr[tuple(seq)]` instead of `arr[seq]`. In the future this will be interpreted as an array index, `arr[np.array(seq)]`, which will result either in an error or a different result.\n",
      "  return np.add.reduce(sorted[indexer] * weights, axis=axis) / sumval\n"
     ]
    },
    {
     "data": {
      "text/plain": [
       "<matplotlib.axes._subplots.AxesSubplot at 0x7fd32cd390b8>"
      ]
     },
     "execution_count": 23,
     "metadata": {},
     "output_type": "execute_result"
    },
    {
     "data": {
      "image/png": "[encoded data removed]",
      "text/plain": [
       "<Figure size 432x288 with 1 Axes>"
      ]
     },
     "metadata": {},
     "output_type": "display_data"
    }
   ],
   "source": [
    "sns.distplot([r.year for r in rslt])"
   ]
  },
  {
   "cell_type": "markdown",
   "metadata": {
    "deletable": false,
    "editable": false,
    "nbgrader": {
     "checksum": "0a37c990aa4db1db6da3355fcaec7b6d",
     "grade": false,
     "grade_id": "cell-9fc12f7936030ee5",
     "locked": true,
     "schema_version": 1,
     "solution": false
    }
   },
   "source": [
    "**Problem 6 (15 points):**\n",
    "\n",
    "Complete and correct the function `generate_random_person` so that it properly returns a `Person` object with randomly determined attributes.\n",
    "\n",
    "Year of birth should be 1918 and 2016.\n",
    "\n",
    "```Python\n",
    "def generate_random_person(surnames, first_names, \n",
    "                                   first_year=,\n",
    "                                   last_year=,\n",
    "                                   proportion_female=0.52):\n",
    "    sex = get_sex(proportion_female)\n",
    "    get_dob(first_year=first_year, last_year=last_year)\n",
    "    name_value = random.random\n",
    "    f_name = select_attribute(first_names[dob.year][sex], \n",
    "                              \"name\",\n",
    "                              \"cumulative_probability\",\n",
    "                              filter2,\n",
    "                              name_value)\n",
    "\n",
    "    name_value = random.random\n",
    "    l_name = select_attribute(surnames, \n",
    "                              \"Surname\",\n",
    "                              \"cumulative_probability\",\n",
    "                              filter2,\n",
    "                              name_value).capitalize()\n",
    "    return Person(first_name=f_name, \n",
    "                  last_name=l_name,\n",
    "                  dob=dob.strftime(\"\"),\n",
    "                  sex=sex)\n",
    "```"
   ]
  },
  {
   "cell_type": "code",
   "execution_count": 24,
   "metadata": {
    "deletable": false,
    "nbgrader": {
     "checksum": "8e6e139e04f2b2e35e8fbcf0c6da1455",
     "grade": false,
     "grade_id": "cell-0681259f5eb94af9",
     "locked": false,
     "schema_version": 1,
     "solution": true
    }
   },
   "outputs": [],
   "source": [
    "def generate_random_person(surnames, first_names, \n",
    "                                   first_year=1918,\n",
    "                                   last_year=2016,\n",
    "                                   proportion_female=0.52):\n",
    "    sex = get_sex(proportion_female)\n",
    "    dob = get_dob(first_year=first_year, last_year=last_year)\n",
    "    name_value = random.random()\n",
    "    f_name = select_attribute(first_names[dob.year][sex], \n",
    "                              \"name\",\n",
    "                              \"cumulative_probability\",\n",
    "                              filter2,\n",
    "                              name_value)\n",
    " \n",
    "    name_value = random.random()\n",
    "    l_name = select_attribute(surnames, \n",
    "                              \"Surname\",\n",
    "                              \"Cumprob\",\n",
    "                              filter2,\n",
    "                              name_value).capitalize()\n",
    "    return Person(first_name=f_name, \n",
    "                  last_name=l_name,\n",
    "                  dob=dob.strftime(\"%B %d, %Y\"),\n",
    "                  sex=sex)\n",
    "\n",
    "    #raise NotImplementedError()"
   ]
  },
  {
   "cell_type": "code",
   "execution_count": 25,
   "metadata": {
    "deletable": false,
    "editable": false,
    "nbgrader": {
     "checksum": "4465663473eca5fcbfa41d9a16afa00d",
     "grade": true,
     "grade_id": "cell-59f37c411291cc3e",
     "locked": true,
     "points": 5,
     "schema_version": 1,
     "solution": false
    }
   },
   "outputs": [],
   "source": [
    "n4=50\n",
    "people = \\\n",
    "[generate_random_person(surnames, \n",
    "                        first_names,\n",
    "                        first_year=1931,\n",
    "                        last_year=1941,\n",
    "                        proportion_female=1.0) for i in range(n4)]\n",
    "assert_equal(len(people),n4)"
   ]
  },
  {
   "cell_type": "code",
   "execution_count": 26,
   "metadata": {
    "deletable": false,
    "editable": false,
    "nbgrader": {
     "checksum": "23f5fc616ccb40f0333aa0de2df8905b",
     "grade": true,
     "grade_id": "cell-b4cdeda796be793e",
     "locked": true,
     "points": 5,
     "schema_version": 1,
     "solution": false
    }
   },
   "outputs": [],
   "source": [
    "assert_equal(len([p for p in people if p.sex == 'M']),0)"
   ]
  },
  {
   "cell_type": "code",
   "execution_count": 27,
   "metadata": {
    "deletable": false,
    "editable": false,
    "nbgrader": {
     "checksum": "0d2301a4ed4112fc337432776775f2a4",
     "grade": true,
     "grade_id": "cell-003eaed273989b8a",
     "locked": true,
     "points": 5,
     "schema_version": 1,
     "solution": false
    }
   },
   "outputs": [],
   "source": [
    "assert_equal(len([p for p in people if p.age[\"years\"] <=87 and p.age[\"years\"] >=77]),n4)"
   ]
  },
  {
   "cell_type": "code",
   "execution_count": null,
   "metadata": {},
   "outputs": [],
   "source": []
  }
 ],
 "metadata": {
  "anaconda-cloud": {},
  "kernelspec": {
   "display_name": "Python [default]",
   "language": "python",
   "name": "python3"
  },
  "language_info": {
   "codemirror_mode": {
    "name": "ipython",
    "version": 3
   },
   "file_extension": ".py",
   "mimetype": "text/x-python",
   "name": "python",
   "nbconvert_exporter": "python",
   "pygments_lexer": "ipython3",
   "version": "3.6.6"
  }
 },
 "nbformat": 4,
 "nbformat_minor": 1
}
